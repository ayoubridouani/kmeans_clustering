{
 "cells": [
  {
   "cell_type": "code",
   "execution_count": 1,
   "metadata": {},
   "outputs": [],
   "source": [
    "import matplotlib.pyplot as plt\n",
    "import numpy as np\n",
    "import glob\n",
    "import cv2\n",
    "import csv\n",
    "import mahotas"
   ]
  },
  {
   "cell_type": "code",
   "execution_count": 2,
   "metadata": {},
   "outputs": [],
   "source": [
    "def color_moments_extraction(image):\n",
    "        R = image[:,:,0]\n",
    "        G = image[:,:,1]\n",
    "        B = image[:,:,2]\n",
    "        colorFeature=[\n",
    "                np.mean(R), np.std(R),\n",
    "                np.mean(G), np.std(G),\n",
    "                np.mean(B), np.std(B)\n",
    "        ]\n",
    "        colorFeature = colorFeature/np.mean(colorFeature)\n",
    "        return colorFeature.tolist()"
   ]
  },
  {
   "cell_type": "code",
   "execution_count": 3,
   "metadata": {},
   "outputs": [],
   "source": [
    "def shape_extraction(image):\n",
    "    image = cv2.cvtColor(image, cv2.COLOR_BGR2GRAY)\n",
    "    # extraction de la forme\n",
    "    feature = cv2.HuMoments(cv2.moments(image)).flatten()\n",
    "    return feature.tolist()"
   ]
  },
  {
   "cell_type": "code",
   "execution_count": 4,
   "metadata": {},
   "outputs": [],
   "source": [
    "def texture_extraction(image):\n",
    "    # convert the image to grayscale\n",
    "    gray = cv2.cvtColor(np.uint8(image), cv2.COLOR_BGR2GRAY)\n",
    "    # compute the haralick texture feature vector\n",
    "    features = mahotas.features.haralick(image.astype(np.uint8)).ravel()\n",
    "    return features"
   ]
  },
  {
   "cell_type": "code",
   "execution_count": 5,
   "metadata": {},
   "outputs": [],
   "source": [
    "def HSV_extraction(image, mask=None):\n",
    "    # convert the image to HSV color-space\n",
    "    image = cv2.cvtColor(image, cv2.COLOR_BGR2HSV)\n",
    "    # compute the color histogram\n",
    "    hist  = cv2.calcHist([np.uint8(image)], [0, 1, 2], mask, [8, 8, 8], [0, 256, 0, 256, 0, 256])\n",
    "    # normalize the histogram\n",
    "    cv2.normalize(hist, hist)\n",
    "    return hist.flatten()"
   ]
  },
  {
   "cell_type": "code",
   "execution_count": 6,
   "metadata": {},
   "outputs": [],
   "source": [
    "features = np.empty([200,694], dtype=float)\n",
    "i=0\n",
    "\n",
    "for file in glob.glob(\"2Classes/*.jpg\"):        \n",
    "    image = plt.imread(file)\n",
    "\n",
    "    #Apply features extraction\n",
    "    f_color_moments = color_moments_extraction(image)\n",
    "    f_shape = shape_extraction(image)\n",
    "    f_texture = texture_extraction(image)\n",
    "    f_Hsv = HSV_extraction(image)  \n",
    "    \n",
    "    #Concatenate features\n",
    "    feature = np.hstack((f_color_moments, f_shape, f_texture, f_Hsv))\n",
    "    \n",
    "    features[i,...] = feature\n",
    "    i += 1"
   ]
  },
  {
   "cell_type": "markdown",
   "metadata": {},
   "source": [
    "## kmeans"
   ]
  },
  {
   "cell_type": "code",
   "execution_count": 7,
   "metadata": {},
   "outputs": [],
   "source": [
    "from sklearn.cluster import KMeans\n",
    "kmeans = KMeans(n_clusters=2,init = 'k-means++')\n",
    "x = kmeans.fit_predict(features)\n",
    "\n",
    "output = open(\"2C_prediction_kmeans.csv\", \"w\")\n",
    "i=0\n",
    "for imagePath in glob.glob(\"2Classes/*.jpg\"):\n",
    "    imageID = imagePath.split(\"/\")[-1]\n",
    "    output.write(\"%s,%s\\n\" % (imageID, str(x[i]+1)))\n",
    "    i += 1\n",
    "\n",
    "output.close()"
   ]
  },
  {
   "cell_type": "markdown",
   "metadata": {},
   "source": [
    "## gmm"
   ]
  },
  {
   "cell_type": "code",
   "execution_count": 8,
   "metadata": {},
   "outputs": [],
   "source": [
    "from sklearn.mixture import GaussianMixture\n",
    "gmm = GaussianMixture(n_components=2)\n",
    "gmm.fit(features)\n",
    "y = gmm.predict(features)\n",
    "\n",
    "output = open(\"2C_prediction_gmm.csv\", \"w\")\n",
    "i=0\n",
    "for imagePath in glob.glob(\"2Classes/*.jpg\"):\n",
    "    imageID = imagePath.split(\"/\")[-1]\n",
    "    output.write(\"%s,%s\\n\" % (imageID, str(y[i]+1)))\n",
    "    i += 1\n",
    "\n",
    "output.close()"
   ]
  }
 ],
 "metadata": {
  "kernelspec": {
   "display_name": "Python 3",
   "language": "python",
   "name": "python3"
  },
  "language_info": {
   "codemirror_mode": {
    "name": "ipython",
    "version": 3
   },
   "file_extension": ".py",
   "mimetype": "text/x-python",
   "name": "python",
   "nbconvert_exporter": "python",
   "pygments_lexer": "ipython3",
   "version": "3.7.4"
  }
 },
 "nbformat": 4,
 "nbformat_minor": 2
}
